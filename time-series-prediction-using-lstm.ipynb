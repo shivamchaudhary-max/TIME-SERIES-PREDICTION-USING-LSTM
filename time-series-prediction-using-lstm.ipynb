{
 "cells": [
  {
   "cell_type": "markdown",
   "id": "72b83cdf",
   "metadata": {
    "id": "MnjiCRtr0S9e",
    "papermill": {
     "duration": 0.011924,
     "end_time": "2022-01-22T09:04:19.790138",
     "exception": false,
     "start_time": "2022-01-22T09:04:19.778214",
     "status": "completed"
    },
    "tags": []
   },
   "source": [
    "7. Time Series Prediction using LSTM: Use the given international airline passengers dataset problem. This is a problem where, given a year and a month, the task is to predict the number of international airline passengers in units of 1,000. The data ranges from January 1949 to December 1960, or 12 years, with 144 observations. We can phrase the problem as a regression problem. That is, given the number of passengers (in units of thousands) this month, what is the number of passengers next month? Perform the following.\n"
   ]
  },
  {
   "cell_type": "code",
   "execution_count": 1,
   "id": "dbced962",
   "metadata": {
    "execution": {
     "iopub.execute_input": "2022-01-22T09:04:19.825283Z",
     "iopub.status.busy": "2022-01-22T09:04:19.821740Z",
     "iopub.status.idle": "2022-01-22T09:04:24.737689Z",
     "shell.execute_reply": "2022-01-22T09:04:24.737083Z"
    },
    "id": "zO-VDlQd0T77",
    "papermill": {
     "duration": 4.934722,
     "end_time": "2022-01-22T09:04:24.737842",
     "exception": false,
     "start_time": "2022-01-22T09:04:19.803120",
     "status": "completed"
    },
    "tags": []
   },
   "outputs": [],
   "source": [
    "import numpy\n",
    "import matplotlib.pyplot as plt\n",
    "import pandas as pd\n",
    "import math\n",
    "from keras.models import Sequential\n",
    "from keras.layers import Dense\n",
    "from keras.layers import LSTM\n",
    "from sklearn.preprocessing import MinMaxScaler\n",
    "from sklearn.metrics import mean_squared_error\n",
    "import tqdm\n",
    "# fix random seed for reproducibility\n",
    "numpy.random.seed(7)\n"
   ]
  },
  {
   "cell_type": "code",
   "execution_count": 2,
   "id": "0f8ae961",
   "metadata": {
    "execution": {
     "iopub.execute_input": "2022-01-22T09:04:24.763655Z",
     "iopub.status.busy": "2022-01-22T09:04:24.762972Z",
     "iopub.status.idle": "2022-01-22T09:04:24.778808Z",
     "shell.execute_reply": "2022-01-22T09:04:24.778343Z",
     "shell.execute_reply.started": "2022-01-22T09:02:31.771440Z"
    },
    "id": "fnP4LzUT0asi",
    "papermill": {
     "duration": 0.030312,
     "end_time": "2022-01-22T09:04:24.778932",
     "exception": false,
     "start_time": "2022-01-22T09:04:24.748620",
     "status": "completed"
    },
    "tags": []
   },
   "outputs": [],
   "source": [
    "# load the dataset\n",
    "df = pd.read_csv('../input/airline-passesngers/airline-passengers.csv', usecols=[1], engine='python', skipfooter=3)"
   ]
  },
  {
   "cell_type": "code",
   "execution_count": 3,
   "id": "1dbd33b3",
   "metadata": {
    "execution": {
     "iopub.execute_input": "2022-01-22T09:04:24.805492Z",
     "iopub.status.busy": "2022-01-22T09:04:24.804989Z",
     "iopub.status.idle": "2022-01-22T09:04:24.808781Z",
     "shell.execute_reply": "2022-01-22T09:04:24.808253Z"
    },
    "id": "p35QFfNE0ir9",
    "papermill": {
     "duration": 0.018319,
     "end_time": "2022-01-22T09:04:24.808905",
     "exception": false,
     "start_time": "2022-01-22T09:04:24.790586",
     "status": "completed"
    },
    "tags": []
   },
   "outputs": [],
   "source": [
    "data = df.values\n",
    "data = data.astype('float32')"
   ]
  },
  {
   "cell_type": "markdown",
   "id": "5e1cb081",
   "metadata": {
    "id": "PGbB9W-3063H",
    "papermill": {
     "duration": 0.010423,
     "end_time": "2022-01-22T09:04:24.830154",
     "exception": false,
     "start_time": "2022-01-22T09:04:24.819731",
     "status": "completed"
    },
    "tags": []
   },
   "source": [
    "a) Write a simple function to convert the single column of data into a two-column dataset: the first column containing this month’s (t) passenger count and the second column containing next month’s (t+1) passenger count, to be predicted."
   ]
  },
  {
   "cell_type": "markdown",
   "id": "770cfbbf",
   "metadata": {
    "id": "7Iyo9TOs1ABk",
    "papermill": {
     "duration": 0.010622,
     "end_time": "2022-01-22T09:04:24.851341",
     "exception": false,
     "start_time": "2022-01-22T09:04:24.840719",
     "status": "completed"
    },
    "tags": []
   },
   "source": [
    "b) Pre-process the dataset: - Normalize the dataset using the MinMaxScaler preprocessing class from the scikit-learn library. - Data split in train/tes"
   ]
  },
  {
   "cell_type": "code",
   "execution_count": 4,
   "id": "b33ada47",
   "metadata": {
    "execution": {
     "iopub.execute_input": "2022-01-22T09:04:24.877995Z",
     "iopub.status.busy": "2022-01-22T09:04:24.874352Z",
     "iopub.status.idle": "2022-01-22T09:04:24.881013Z",
     "shell.execute_reply": "2022-01-22T09:04:24.880614Z"
    },
    "id": "mBVa9Cm-1A1N",
    "papermill": {
     "duration": 0.019064,
     "end_time": "2022-01-22T09:04:24.881116",
     "exception": false,
     "start_time": "2022-01-22T09:04:24.862052",
     "status": "completed"
    },
    "tags": []
   },
   "outputs": [],
   "source": [
    "# normalize the dataset\n",
    "scaler = MinMaxScaler(feature_range=(0, 1))\n",
    "dataset = scaler.fit_transform(data)\n",
    "\n",
    "# split into train and test sets\n",
    "train_size = int(len(dataset) * 0.67)\n",
    "test_size = len(dataset) - train_size\n",
    "train, test = dataset[0:train_size,:], dataset[train_size:len(dataset),:]\n"
   ]
  },
  {
   "cell_type": "code",
   "execution_count": 5,
   "id": "44998376",
   "metadata": {
    "execution": {
     "iopub.execute_input": "2022-01-22T09:04:24.907835Z",
     "iopub.status.busy": "2022-01-22T09:04:24.907180Z",
     "iopub.status.idle": "2022-01-22T09:04:24.909269Z",
     "shell.execute_reply": "2022-01-22T09:04:24.909698Z"
    },
    "id": "WKoSX9Rh1EyJ",
    "papermill": {
     "duration": 0.017818,
     "end_time": "2022-01-22T09:04:24.909818",
     "exception": false,
     "start_time": "2022-01-22T09:04:24.892000",
     "status": "completed"
    },
    "tags": []
   },
   "outputs": [],
   "source": [
    "# convert an array of values into a dataset matrix\n",
    "def create_dataset(dataset, look_back=1):\n",
    "    dataX, dataY = [], []\n",
    "    for i in range(len(dataset)-look_back-1):\n",
    "        a = dataset[i:(i+look_back), 0]\n",
    "        dataX.append(a)\n",
    "        dataY.append(dataset[i + look_back, 0])\n",
    "    return numpy.array(dataX), numpy.array(dataY)\n"
   ]
  },
  {
   "cell_type": "code",
   "execution_count": 6,
   "id": "b981d3bf",
   "metadata": {
    "execution": {
     "iopub.execute_input": "2022-01-22T09:04:24.935839Z",
     "iopub.status.busy": "2022-01-22T09:04:24.933332Z",
     "iopub.status.idle": "2022-01-22T09:04:24.939402Z",
     "shell.execute_reply": "2022-01-22T09:04:24.939009Z"
    },
    "id": "OAOVJiWI1HmB",
    "papermill": {
     "duration": 0.018961,
     "end_time": "2022-01-22T09:04:24.939527",
     "exception": false,
     "start_time": "2022-01-22T09:04:24.920566",
     "status": "completed"
    },
    "tags": []
   },
   "outputs": [],
   "source": [
    "# reshape \n",
    "look_back = 10\n",
    "trainX, trainY = create_dataset(train, look_back)\n",
    "testX, testY = create_dataset(test, look_back)\n",
    "\n",
    "# reshape input to be [samples, time steps, features]\n",
    "trainX = numpy.reshape(trainX, (trainX.shape[0], trainX.shape[1], 1))\n",
    "testX = numpy.reshape(testX, (testX.shape[0], testX.shape[1], 1))"
   ]
  },
  {
   "cell_type": "markdown",
   "id": "a12e65f8",
   "metadata": {
    "id": "N5PO1nW61Qv-",
    "papermill": {
     "duration": 0.010839,
     "end_time": "2022-01-22T09:04:24.961440",
     "exception": false,
     "start_time": "2022-01-22T09:04:24.950601",
     "status": "completed"
    },
    "tags": []
   },
   "source": [
    "d) Train the network and perform hyper parameter tuning."
   ]
  },
  {
   "cell_type": "code",
   "execution_count": 7,
   "id": "ed635fad",
   "metadata": {
    "execution": {
     "iopub.execute_input": "2022-01-22T09:04:24.988592Z",
     "iopub.status.busy": "2022-01-22T09:04:24.988038Z",
     "iopub.status.idle": "2022-01-22T09:04:27.581170Z",
     "shell.execute_reply": "2022-01-22T09:04:27.582001Z"
    },
    "id": "wj9n5rbI1RhZ",
    "outputId": "666c2ba4-907e-4128-a514-c6b96d66557f",
    "papermill": {
     "duration": 2.609796,
     "end_time": "2022-01-22T09:04:27.582161",
     "exception": false,
     "start_time": "2022-01-22T09:04:24.972365",
     "status": "completed"
    },
    "tags": []
   },
   "outputs": [
    {
     "name": "stderr",
     "output_type": "stream",
     "text": [
      "2022-01-22 09:04:25.058406: I tensorflow/stream_executor/cuda/cuda_gpu_executor.cc:937] successful NUMA node read from SysFS had negative value (-1), but there must be at least one NUMA node, so returning NUMA node zero\n",
      "2022-01-22 09:04:25.158912: I tensorflow/stream_executor/cuda/cuda_gpu_executor.cc:937] successful NUMA node read from SysFS had negative value (-1), but there must be at least one NUMA node, so returning NUMA node zero\n",
      "2022-01-22 09:04:25.159785: I tensorflow/stream_executor/cuda/cuda_gpu_executor.cc:937] successful NUMA node read from SysFS had negative value (-1), but there must be at least one NUMA node, so returning NUMA node zero\n",
      "2022-01-22 09:04:25.160960: I tensorflow/core/platform/cpu_feature_guard.cc:142] This TensorFlow binary is optimized with oneAPI Deep Neural Network Library (oneDNN) to use the following CPU instructions in performance-critical operations:  AVX2 AVX512F FMA\n",
      "To enable them in other operations, rebuild TensorFlow with the appropriate compiler flags.\n",
      "2022-01-22 09:04:25.162162: I tensorflow/stream_executor/cuda/cuda_gpu_executor.cc:937] successful NUMA node read from SysFS had negative value (-1), but there must be at least one NUMA node, so returning NUMA node zero\n",
      "2022-01-22 09:04:25.162902: I tensorflow/stream_executor/cuda/cuda_gpu_executor.cc:937] successful NUMA node read from SysFS had negative value (-1), but there must be at least one NUMA node, so returning NUMA node zero\n",
      "2022-01-22 09:04:25.163597: I tensorflow/stream_executor/cuda/cuda_gpu_executor.cc:937] successful NUMA node read from SysFS had negative value (-1), but there must be at least one NUMA node, so returning NUMA node zero\n",
      "2022-01-22 09:04:26.817438: I tensorflow/stream_executor/cuda/cuda_gpu_executor.cc:937] successful NUMA node read from SysFS had negative value (-1), but there must be at least one NUMA node, so returning NUMA node zero\n",
      "2022-01-22 09:04:26.818236: I tensorflow/stream_executor/cuda/cuda_gpu_executor.cc:937] successful NUMA node read from SysFS had negative value (-1), but there must be at least one NUMA node, so returning NUMA node zero\n",
      "2022-01-22 09:04:26.818884: I tensorflow/stream_executor/cuda/cuda_gpu_executor.cc:937] successful NUMA node read from SysFS had negative value (-1), but there must be at least one NUMA node, so returning NUMA node zero\n",
      "2022-01-22 09:04:26.819447: I tensorflow/core/common_runtime/gpu/gpu_device.cc:1510] Created device /job:localhost/replica:0/task:0/device:GPU:0 with 15403 MB memory:  -> device: 0, name: Tesla P100-PCIE-16GB, pci bus id: 0000:00:04.0, compute capability: 6.0\n"
     ]
    },
    {
     "name": "stdout",
     "output_type": "stream",
     "text": [
      "(83, 10, 1) (83,)\n"
     ]
    }
   ],
   "source": [
    "# create and fit the LSTM network\n",
    "batch_size = 1\n",
    "model = Sequential()\n",
    "model.add(LSTM(64, batch_input_shape=(batch_size, look_back, 1),stateful=True,return_sequences=True))\n",
    "model.add(LSTM(64, stateful=True))\n",
    "model.add(Dense(16, activation='relu'))\n",
    "model.add(Dense(1))\n",
    "model.compile(loss='mean_squared_error', optimizer='adam')\n",
    "\n",
    "print (trainX.shape, trainY.shape)"
   ]
  },
  {
   "cell_type": "code",
   "execution_count": 8,
   "id": "09e1511d",
   "metadata": {
    "execution": {
     "iopub.execute_input": "2022-01-22T09:04:27.611325Z",
     "iopub.status.busy": "2022-01-22T09:04:27.610811Z",
     "iopub.status.idle": "2022-01-22T09:04:49.743654Z",
     "shell.execute_reply": "2022-01-22T09:04:49.744080Z"
    },
    "id": "a9-WFwDK1Unh",
    "outputId": "991e135b-a665-4e94-826e-50cd435c91d9",
    "papermill": {
     "duration": 22.149814,
     "end_time": "2022-01-22T09:04:49.744229",
     "exception": false,
     "start_time": "2022-01-22T09:04:27.594415",
     "status": "completed"
    },
    "tags": []
   },
   "outputs": [
    {
     "name": "stderr",
     "output_type": "stream",
     "text": [
      "  0%|          | 0/20 [00:00<?, ?it/s]2022-01-22 09:04:27.650797: I tensorflow/compiler/mlir/mlir_graph_optimization_pass.cc:185] None of the MLIR Optimization Passes are enabled (registered 2)\n",
      "2022-01-22 09:04:30.395758: I tensorflow/stream_executor/cuda/cuda_dnn.cc:369] Loaded cuDNN version 8005\n",
      "100%|██████████| 20/20 [00:22<00:00,  1.11s/it]\n"
     ]
    }
   ],
   "source": [
    "\n",
    "for i in tqdm.tqdm(range(20)):\n",
    "    model.fit(trainX, trainY, epochs=3, batch_size=batch_size, verbose=0, shuffle=False)\n",
    "    model.reset_states()"
   ]
  },
  {
   "cell_type": "markdown",
   "id": "f987cf7a",
   "metadata": {
    "id": "X6oeKy201x0w",
    "papermill": {
     "duration": 0.01939,
     "end_time": "2022-01-22T09:04:49.781778",
     "exception": false,
     "start_time": "2022-01-22T09:04:49.762388",
     "status": "completed"
    },
    "tags": []
   },
   "source": [
    "e) Evaluate the model."
   ]
  },
  {
   "cell_type": "code",
   "execution_count": 9,
   "id": "4d774833",
   "metadata": {
    "execution": {
     "iopub.execute_input": "2022-01-22T09:04:49.823324Z",
     "iopub.status.busy": "2022-01-22T09:04:49.822493Z",
     "iopub.status.idle": "2022-01-22T09:04:50.594403Z",
     "shell.execute_reply": "2022-01-22T09:04:50.594886Z"
    },
    "id": "Ddh96yTA1yhx",
    "papermill": {
     "duration": 0.795284,
     "end_time": "2022-01-22T09:04:50.595056",
     "exception": false,
     "start_time": "2022-01-22T09:04:49.799772",
     "status": "completed"
    },
    "tags": []
   },
   "outputs": [],
   "source": [
    "# make predictions\n",
    "trainPredict = model.predict(trainX, batch_size=batch_size)\n",
    "model.reset_states()\n",
    "testPredict = model.predict(testX, batch_size=batch_size)\n",
    "\n",
    "# invert predictions\n",
    "trainPredict = scaler.inverse_transform(trainPredict)\n",
    "trainY = scaler.inverse_transform([trainY])\n",
    "testPredict = scaler.inverse_transform(testPredict)\n",
    "testY = scaler.inverse_transform([testY])\n"
   ]
  },
  {
   "cell_type": "code",
   "execution_count": 10,
   "id": "7e2e80b1",
   "metadata": {
    "execution": {
     "iopub.execute_input": "2022-01-22T09:04:50.638282Z",
     "iopub.status.busy": "2022-01-22T09:04:50.637656Z",
     "iopub.status.idle": "2022-01-22T09:04:50.642965Z",
     "shell.execute_reply": "2022-01-22T09:04:50.642255Z"
    },
    "id": "g3SZCBhN12NZ",
    "outputId": "699f44a3-22bf-48f0-a343-d08aa1579883",
    "papermill": {
     "duration": 0.029512,
     "end_time": "2022-01-22T09:04:50.643120",
     "exception": false,
     "start_time": "2022-01-22T09:04:50.613608",
     "status": "completed"
    },
    "tags": []
   },
   "outputs": [
    {
     "name": "stdout",
     "output_type": "stream",
     "text": [
      "Train Score: 21.00 RMSE\n",
      "Test Score: 41.06 RMSE\n"
     ]
    }
   ],
   "source": [
    "# calculate root mean squared error\n",
    "trainScore = math.sqrt(mean_squared_error(trainY[0], trainPredict[:,0]))\n",
    "print('Train Score: %.2f RMSE' % (trainScore))\n",
    "testScore = math.sqrt(mean_squared_error(testY[0], testPredict[:,0]))\n",
    "print('Test Score: %.2f RMSE' % (testScore))"
   ]
  },
  {
   "cell_type": "markdown",
   "id": "8d3bf693",
   "metadata": {
    "id": "G_IvgYBV199T",
    "papermill": {
     "duration": 0.018392,
     "end_time": "2022-01-22T09:04:50.681804",
     "exception": false,
     "start_time": "2022-01-22T09:04:50.663412",
     "status": "completed"
    },
    "tags": []
   },
   "source": [
    "f) Plot the original dataset along with train and test predictions to get an idea of how the trained model performs"
   ]
  },
  {
   "cell_type": "code",
   "execution_count": 11,
   "id": "944f19f2",
   "metadata": {
    "execution": {
     "iopub.execute_input": "2022-01-22T09:04:50.723455Z",
     "iopub.status.busy": "2022-01-22T09:04:50.722779Z",
     "iopub.status.idle": "2022-01-22T09:04:50.724979Z",
     "shell.execute_reply": "2022-01-22T09:04:50.725339Z"
    },
    "id": "GFM800no1-kX",
    "papermill": {
     "duration": 0.024897,
     "end_time": "2022-01-22T09:04:50.725469",
     "exception": false,
     "start_time": "2022-01-22T09:04:50.700572",
     "status": "completed"
    },
    "tags": []
   },
   "outputs": [],
   "source": [
    "# shift train predictions for plotting\n",
    "trainPredictPlot = numpy.empty_like(dataset)\n",
    "trainPredictPlot[:, :] = numpy.nan\n",
    "trainPredictPlot[look_back:len(trainPredict)+look_back, :] = trainPredict\n"
   ]
  },
  {
   "cell_type": "code",
   "execution_count": 12,
   "id": "f33e55c4",
   "metadata": {
    "execution": {
     "iopub.execute_input": "2022-01-22T09:04:50.771103Z",
     "iopub.status.busy": "2022-01-22T09:04:50.770307Z",
     "iopub.status.idle": "2022-01-22T09:04:50.988996Z",
     "shell.execute_reply": "2022-01-22T09:04:50.988299Z"
    },
    "id": "z7qxNym_2B3U",
    "outputId": "6f353a3e-72b5-4ec8-e459-d1f5ac66914f",
    "papermill": {
     "duration": 0.244946,
     "end_time": "2022-01-22T09:04:50.989143",
     "exception": false,
     "start_time": "2022-01-22T09:04:50.744197",
     "status": "completed"
    },
    "tags": []
   },
   "outputs": [
    {
     "data": {
      "image/png": "[encoded data removed]",
      "text/plain": [
       "<Figure size 432x288 with 1 Axes>"
      ]
     },
     "metadata": {
      "needs_background": "light"
     },
     "output_type": "display_data"
    }
   ],
   "source": [
    "# shift test predictions for plotting\n",
    "testPredictPlot = numpy.empty_like(dataset)\n",
    "testPredictPlot[:, :] = numpy.nan\n",
    "testPredictPlot[len(trainPredict)+(look_back*2)+1:len(dataset)-1, :] = testPredict\n",
    "\n",
    "\n",
    "# plot baseline and predictions\n",
    "plt.plot(scaler.inverse_transform(dataset))\n",
    "plt.plot(trainPredictPlot)\n",
    "plt.plot(testPredictPlot)\n",
    "plt.show()"
   ]
  },
  {
   "cell_type": "code",
   "execution_count": null,
   "id": "b7c981f5",
   "metadata": {
    "id": "lxzdAlwO2GJP",
    "papermill": {
     "duration": 0.023875,
     "end_time": "2022-01-22T09:04:51.039074",
     "exception": false,
     "start_time": "2022-01-22T09:04:51.015199",
     "status": "completed"
    },
    "tags": []
   },
   "outputs": [],
   "source": []
  }
 ],
 "metadata": {
  "kernelspec": {
   "display_name": "Python 3",
   "language": "python",
   "name": "python3"
  },
  "language_info": {
   "codemirror_mode": {
    "name": "ipython",
    "version": 3
   },
   "file_extension": ".py",
   "mimetype": "text/x-python",
   "name": "python",
   "nbconvert_exporter": "python",
   "pygments_lexer": "ipython3",
   "version": "3.7.12"
  },
  "papermill": {
   "default_parameters": {},
   "duration": 42.400477,
   "end_time": "2022-01-22T09:04:54.294456",
   "environment_variables": {},
   "exception": null,
   "input_path": "__notebook__.ipynb",
   "output_path": "__notebook__.ipynb",
   "parameters": {},
   "start_time": "2022-01-22T09:04:11.893979",
   "version": "2.3.3"
  }
 },
 "nbformat": 4,
 "nbformat_minor": 5
}
